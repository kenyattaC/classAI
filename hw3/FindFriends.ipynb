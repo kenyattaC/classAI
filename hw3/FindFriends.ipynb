{
  "nbformat": 4,
  "nbformat_minor": 0,
  "metadata": {
    "colab": {
      "provenance": [],
      "authorship_tag": "ABX9TyNYucj4X2DPSroky+BHsDqg",
      "include_colab_link": true
    },
    "kernelspec": {
      "name": "python3",
      "display_name": "Python 3"
    },
    "language_info": {
      "name": "python"
    }
  },
  "cells": [
    {
      "cell_type": "markdown",
      "metadata": {
        "id": "view-in-github",
        "colab_type": "text"
      },
      "source": [
        "<a href=\"https://colab.research.google.com/github/kenyattaC/classAI/blob/main/FindFriends.ipynb\" target=\"_parent\"><img src=\"https://colab.research.google.com/assets/colab-badge.svg\" alt=\"Open In Colab\"/></a>"
      ]
    },
    {
      "cell_type": "code",
      "execution_count": null,
      "metadata": {
        "id": "OYDcqG8fgeTV"
      },
      "outputs": [],
      "source": [
        "from collections import deque\n",
        "\n",
        "def FindFriends(G, user, k):\n",
        "    if user not in G:\n",
        "        print(\"User not found in the graph.\")\n",
        "        return []\n",
        "\n",
        "    queue = deque([(user, 0)])  # Start BFS queue with user and its level\n",
        "    visited = set()             # Track visited nodes\n",
        "    kth_level_friends = []      # List to store kth-level friends\n",
        "\n",
        "    while queue:\n",
        "        current_user, level = queue.popleft()\n",
        "\n",
        "        if level == k:\n",
        "            kth_level_friends.append(current_user)\n",
        "            continue\n",
        "\n",
        "        if current_user not in visited:\n",
        "            visited.add(current_user)\n",
        "            for friend in G[current_user]:\n",
        "                queue.append((friend, level + 1))\n",
        "\n",
        "    return kth_level_friends\n",
        "\n",
        "# Test graph\n",
        "G = {\n",
        "    'Bob': ['Alice', 'Charlie'],\n",
        "    'Alice': ['Bob', 'David', 'Amy'],\n",
        "    'Charlie': ['Bob', 'Eve', 'Anna'],\n",
        "    'David': ['Alice'],\n",
        "    'Amy': ['Alice'],\n",
        "    'Eve': ['Charlie'],\n",
        "    'Anna': ['Charlie']\n",
        "}\n",
        "\n",
        "# Test the function\n",
        "kth_level_friends = FindFriends(G, 'Bob', 3)\n",
        "print(\"Kth level friends of Bob:\", kth_level_friends)\n"
      ]
    }
  ]
}
