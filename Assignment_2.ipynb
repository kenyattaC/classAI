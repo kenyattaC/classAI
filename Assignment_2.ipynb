{
  "nbformat": 4,
  "nbformat_minor": 0,
  "metadata": {
    "colab": {
      "provenance": [],
      "authorship_tag": "ABX9TyN6LfwaMT5lpQis+1zKHJWv",
      "include_colab_link": true
    },
    "kernelspec": {
      "name": "python3",
      "display_name": "Python 3"
    },
    "language_info": {
      "name": "python"
    }
  },
  "cells": [
    {
      "cell_type": "markdown",
      "metadata": {
        "id": "view-in-github",
        "colab_type": "text"
      },
      "source": [
        "<a href=\"https://colab.research.google.com/github/kenyattaC/classAI/blob/main/Assignment_2.ipynb\" target=\"_parent\"><img src=\"https://colab.research.google.com/assets/colab-badge.svg\" alt=\"Open In Colab\"/></a>"
      ]
    },
    {
      "cell_type": "code",
      "execution_count": null,
      "metadata": {
        "id": "YRLHZdXs_vVT"
      },
      "outputs": [],
      "source": [
        "def WaterJugPuzzle():\n",
        "    jug_5 = 5\n",
        "    jug_3 = 3\n",
        "\n",
        "    # Step 1\n",
        "    current_state = (jug_5, 0)\n",
        "    print_state(current_state)\n",
        "\n",
        "    # Step 2\n",
        "    current_state = pour_water(current_state, 5, 3)\n",
        "    print_state(current_state)\n",
        "\n",
        "    # Step 3\n",
        "    current_state = pour_water(current_state, 0, 3)\n",
        "    print_state(current_state)\n",
        "\n",
        "    # Step 4\n",
        "    current_state = pour_water(current_state, 5, 3)\n",
        "    print_state(current_state)\n",
        "\n",
        "    # Step 5\n",
        "    current_state = pour_water(current_state, 2, 3)\n",
        "    print_state(current_state)\n",
        "\n",
        "    # Step 6\n",
        "    current_state = pour_water(current_state, 0, 3)\n",
        "    print_state(current_state)\n",
        "\n",
        "    # Step 7\n",
        "    current_state = pour_water(current_state, 5, 3)\n",
        "    print_state(current_state)\n",
        "\n",
        "\n",
        "def pour_water(state, amount_from, amount_to):\n",
        "    current_state = list(state)\n",
        "    pour_amount = min(current_state[amount_from], amount_to - current_state[amount_to])\n",
        "    current_state[amount_from] -= pour_amount\n",
        "    current_state[amount_to] += pour_amount\n",
        "    return tuple(current_state)\n",
        "\n",
        "\n",
        "def print_state(state):\n",
        "    jug_5, jug_3 = state\n",
        "    print(f\"Jug 5: {jug_5} liters, Jug 3: {jug_3} liters\")\n",
        "\n",
        "\n",
        "# Run the puzzle solving steps\n",
        "WaterJugPuzzle()"
      ]
    }
  ]
}