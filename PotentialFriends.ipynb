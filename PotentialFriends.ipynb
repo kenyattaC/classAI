{
  "nbformat": 4,
  "nbformat_minor": 0,
  "metadata": {
    "colab": {
      "provenance": [],
      "authorship_tag": "ABX9TyPMCUocMLXi9Ux8p4yItS+n",
      "include_colab_link": true
    },
    "kernelspec": {
      "name": "python3",
      "display_name": "Python 3"
    },
    "language_info": {
      "name": "python"
    }
  },
  "cells": [
    {
      "cell_type": "markdown",
      "metadata": {
        "id": "view-in-github",
        "colab_type": "text"
      },
      "source": [
        "<a href=\"https://colab.research.google.com/github/kenyattaC/classAI/blob/main/PotentialFriends.ipynb\" target=\"_parent\"><img src=\"https://colab.research.google.com/assets/colab-badge.svg\" alt=\"Open In Colab\"/></a>"
      ]
    },
    {
      "cell_type": "code",
      "execution_count": null,
      "metadata": {
        "id": "LXerSjwygvuX"
      },
      "outputs": [],
      "source": [
        "from collections import deque\n",
        "\n",
        "def PotentialFriends(G, user):\n",
        "    if user not in G:\n",
        "        print(\"User not found in the graph.\")\n",
        "        return []\n",
        "\n",
        "    visited = set()       # Set to track visited nodes\n",
        "    potential_friends = []  # List to store potential friends\n",
        "\n",
        "    queue = deque([user])  # Start BFS queue with the given user\n",
        "\n",
        "    while queue:\n",
        "        current_user = queue.popleft()\n",
        "        visited.add(current_user)\n",
        "\n",
        "        # Check immediate connections of current user\n",
        "        for friend in G[current_user]:\n",
        "            if friend not in visited:\n",
        "                queue.append(friend)\n",
        "                visited.add(friend)\n",
        "\n",
        "    # Identify potential friends (nodes not visited during BFS)\n",
        "    for node in G:\n",
        "        if node != user and node not in visited:\n",
        "            potential_friends.append(node)\n",
        "\n",
        "    return potential_friends\n",
        "\n",
        "# Test graph at time t\n",
        "G_t = {\n",
        "    'Adam': ['Maria'],\n",
        "    'Maria': ['Adam', 'Sophia'],\n",
        "    'Sophia': ['Maria']\n",
        "}\n",
        "\n",
        "# Test cases\n",
        "print(\"Potential friends of Adam at time t:\", PotentialFriends(G_t, 'Adam'))  # Returns ['Sophia']\n",
        "print(\"Potential friends of David at time t:\", PotentialFriends(G_t, 'David'))  # Returns ['Adam', 'Sophia']\n",
        "print(\"Potential friends of Sophia at time t:\", PotentialFriends(G_t, 'Sophia'))  # Returns []\n",
        "\n",
        "# Test graph at time t'\n",
        "G_tp = {\n",
        "    'Adam': ['Maria'],\n",
        "    'Maria': ['Adam', 'Sophia'],\n",
        "    'Sophia': ['Maria', 'David'],\n",
        "    'David': ['Sophia']\n",
        "}\n",
        "\n",
        "# Test cases\n",
        "print(\"Potential friends of Adam at time t':\", PotentialFriends(G_tp, 'Adam'))  # Returns ['David']\n",
        "print(\"Potential friends of David at time t':\", PotentialFriends(G_tp, 'David'))  # Returns ['Adam']\n",
        "print(\"Potential friends of Sophia at time t':\", PotentialFriends(G_tp, 'Sophia'))  # Returns []\n"
      ]
    }
  ]
}