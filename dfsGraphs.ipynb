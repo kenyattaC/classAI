{
  "nbformat": 4,
  "nbformat_minor": 0,
  "metadata": {
    "colab": {
      "provenance": [],
      "authorship_tag": "ABX9TyNwmxSliW1oxE2yvZ9VtFlV",
      "include_colab_link": true
    },
    "kernelspec": {
      "name": "python3",
      "display_name": "Python 3"
    },
    "language_info": {
      "name": "python"
    }
  },
  "cells": [
    {
      "cell_type": "markdown",
      "metadata": {
        "id": "view-in-github",
        "colab_type": "text"
      },
      "source": [
        "<a href=\"https://colab.research.google.com/github/kenyattaC/classAI/blob/main/dfsGraphs.ipynb\" target=\"_parent\"><img src=\"https://colab.research.google.com/assets/colab-badge.svg\" alt=\"Open In Colab\"/></a>"
      ]
    },
    {
      "cell_type": "code",
      "execution_count": null,
      "metadata": {
        "id": "F6god9q4g_tp"
      },
      "outputs": [],
      "source": [
        "def dfsGraphs(graph, start, goal, visited=None):\n",
        "    if visited is None:\n",
        "        visited = set()\n",
        "    visited.add(start)\n",
        "    if start == goal:\n",
        "        return \"SUCCESS\"\n",
        "    for neighbor in graph[start]:\n",
        "        if neighbor not in visited:\n",
        "            result = dfs(graph, neighbor, goal, visited)\n",
        "            if result == \"SUCCESS\":\n",
        "                return \"SUCCESS\"\n",
        "    return \"FAILURE\"\n",
        "\n",
        "# Graph 1\n",
        "graph1 = {\n",
        "    'A': ['B', 'C'],\n",
        "    'B': ['D', 'E'],\n",
        "    'C': ['F'],\n",
        "    'D': [],\n",
        "    'E': ['F'],\n",
        "    'F': []\n",
        "}\n",
        "start_node1 = 'A'\n",
        "goal_node1 = 'F'\n",
        "print(\"Graph 1 Result:\", dfs(graph1, start_node1, goal_node1))\n",
        "\n",
        "# Graph 2\n",
        "graph2 = {\n",
        "    'A': ['B', 'C'],\n",
        "    'B': ['D', 'E'],\n",
        "    'C': [],\n",
        "    'D': [],\n",
        "    'E': [],\n",
        "}\n",
        "start_node2 = 'A'\n",
        "goal_node2 = 'F'\n",
        "print(\"Graph 2 Result:\", dfs(graph2, start_node2, goal_node2))\n"
      ]
    }
  ]
}